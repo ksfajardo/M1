{
 "cells": [
  {
   "cell_type": "code",
   "execution_count": 94,
   "id": "7bfd6677-e5e1-40a9-b4d8-3d2368d3059d",
   "metadata": {},
   "outputs": [],
   "source": [
    "class Nodo:\n",
    "    \n",
    "    def __init__(self, val):\n",
    "        self.valor = val\n",
    "        self.apuntador = None\n",
    "    \n",
    "    def definir_apuntador(self,posicion):\n",
    "        self.apuntador = posicion\n",
    "        \n",
    "    def cambiar_valor(self,valor):\n",
    "        self.valor = valor\n",
    "        \n",
    "    def obtener_valor(self):\n",
    "        return self.valor\n",
    "    \n",
    "    def obtener_apuntador(self):\n",
    "        return self.apuntador\n",
    "        \n",
    "    \n",
    "    \n",
    "    \n",
    "    \n"
   ]
  },
  {
   "cell_type": "code",
   "execution_count": 95,
   "id": "23756f43-ab06-4bda-bc90-107a06a6147b",
   "metadata": {},
   "outputs": [],
   "source": [
    "n1 = Nodo(\"Primer nodo\")"
   ]
  },
  {
   "cell_type": "code",
   "execution_count": 96,
   "id": "609af9a4-85c5-4433-b90d-b0c56673efe9",
   "metadata": {},
   "outputs": [
    {
     "name": "stdout",
     "output_type": "stream",
     "text": [
      "Primer nodo\n"
     ]
    }
   ],
   "source": [
    "print(n1.obtener_valor())"
   ]
  },
  {
   "cell_type": "code",
   "execution_count": 97,
   "id": "1b0809fb-82fa-401e-b863-46d56ceb801d",
   "metadata": {},
   "outputs": [
    {
     "name": "stdout",
     "output_type": "stream",
     "text": [
      "None\n"
     ]
    }
   ],
   "source": [
    "print(n1.obtener_apuntador())"
   ]
  },
  {
   "cell_type": "code",
   "execution_count": 98,
   "id": "e7982d77-b151-4e43-9d71-65ead5712aa1",
   "metadata": {},
   "outputs": [],
   "source": [
    "n2 = Nodo(\"Segundo nodo\")"
   ]
  },
  {
   "cell_type": "code",
   "execution_count": 99,
   "id": "a52acef8-fe54-43ed-8de0-3d64b80521ef",
   "metadata": {},
   "outputs": [],
   "source": [
    "n1.definir_apuntador(n2)"
   ]
  },
  {
   "cell_type": "code",
   "execution_count": 100,
   "id": "a5fff5bf-2ad0-4e70-872d-2b28035f0847",
   "metadata": {},
   "outputs": [
    {
     "name": "stdout",
     "output_type": "stream",
     "text": [
      "<__main__.Nodo object at 0x7f1a2c193070>\n"
     ]
    }
   ],
   "source": [
    "print(n1.obtener_apuntador())"
   ]
  },
  {
   "cell_type": "code",
   "execution_count": 101,
   "id": "61b6e876-26b1-4353-96cb-e41b0eb51b00",
   "metadata": {},
   "outputs": [
    {
     "data": {
      "text/plain": [
       "<__main__.Nodo at 0x7f1a2c193070>"
      ]
     },
     "execution_count": 101,
     "metadata": {},
     "output_type": "execute_result"
    }
   ],
   "source": [
    "n1.obtener_apuntador()"
   ]
  },
  {
   "cell_type": "code",
   "execution_count": 102,
   "id": "6fcd0982-7e35-4927-a430-c8a7fc9b7557",
   "metadata": {
    "tags": []
   },
   "outputs": [],
   "source": [
    "class Lista_enlazada:\n",
    "    \n",
    "    def __init__(self):\n",
    "        self.principal = None\n",
    "    \n",
    "    def vacio(self):\n",
    "        if self.principal == None:\n",
    "            print(\"Está Vacía\")\n",
    "        else:\n",
    "            print(\"No está vacía\")\n",
    "        \n",
    "    def adicionar(self,val):\n",
    "        \n",
    "        nuevo_nodo = Nodo(val)\n",
    "        nuevo_nodo.definir_apuntador(self.principal)\n",
    "        self.principal = nuevo_nodo\n",
    "        \n",
    "    def imprimir_lista(self):\n",
    "    \n",
    "        lista = self.principal\n",
    "        \n",
    "        while (lista != None):\n",
    "            \n",
    "            \n",
    "            print(lista.obtener_valor())\n",
    "            lista = lista.obtener_apuntador()\n",
    "            \n",
    "    def tamano(self):\n",
    "        conteo = 0\n",
    "        lista = self.principal\n",
    "        \n",
    "        while (lista != None):\n",
    "            \n",
    "            conteo +=1\n",
    "            lista = lista.obtener_apuntador()\n",
    "        print(\"La cantidad de elementos en la lista enlazada es\", conteo)\n",
    "        \n",
    "    def posicion_valor(self,valor):\n",
    "        conteo = 0\n",
    "        lista = self.principal\n",
    "        \n",
    "        while (lista != None):\n",
    "            \n",
    "            if conteo == valor:\n",
    "                print(\"el valor de la posicion\", conteo, \"es\", lista.obtener_valor())\n",
    "                break\n",
    "            conteo +=1\n",
    "            lista = lista.obtener_apuntador()\n",
    "    def cambiar_valor_posicion(self, posicion, valor):\n",
    "        \n",
    "        conteo = 0\n",
    "        lista = self.principal\n",
    "        \n",
    "        while (lista != None):\n",
    "            \n",
    "            if conteo == posicion:\n",
    "                lista.cambiar_valor(valor)\n",
    "            conteo +=1\n",
    "            lista = lista.obtener_apuntador()\n",
    "            \n",
    "        \n",
    "        \n"
   ]
  },
  {
   "cell_type": "code",
   "execution_count": 103,
   "id": "d038f187-361c-4117-9827-a0d0344a06ba",
   "metadata": {},
   "outputs": [],
   "source": [
    "lista_prueba = Lista_enlazada()"
   ]
  },
  {
   "cell_type": "code",
   "execution_count": 104,
   "id": "a10d200a-b122-4260-b657-2fe7b3e522cd",
   "metadata": {},
   "outputs": [
    {
     "name": "stdout",
     "output_type": "stream",
     "text": [
      "Está Vacía\n"
     ]
    }
   ],
   "source": [
    "lista_prueba.vacio()"
   ]
  },
  {
   "cell_type": "code",
   "execution_count": 105,
   "id": "a9c9a4a4-752c-4f5a-89b1-c31a82260653",
   "metadata": {},
   "outputs": [],
   "source": [
    "lista_prueba.adicionar(\"Hola\")\n",
    "lista_prueba.adicionar(1)\n",
    "lista_prueba.adicionar(True)\n",
    "lista_prueba.adicionar(3.1416)"
   ]
  },
  {
   "cell_type": "code",
   "execution_count": 106,
   "id": "d25fcd20-ad3c-4d35-8e0c-7089f648492e",
   "metadata": {},
   "outputs": [
    {
     "name": "stdout",
     "output_type": "stream",
     "text": [
      "No está vacía\n"
     ]
    }
   ],
   "source": [
    "lista_prueba.vacio()"
   ]
  },
  {
   "cell_type": "code",
   "execution_count": 107,
   "id": "9ab5f0bb-2f7a-4460-87cb-f086ac788a5b",
   "metadata": {},
   "outputs": [
    {
     "name": "stdout",
     "output_type": "stream",
     "text": [
      "3.1416\n",
      "True\n",
      "1\n",
      "Hola\n"
     ]
    }
   ],
   "source": [
    "lista_prueba.imprimir_lista()"
   ]
  },
  {
   "cell_type": "code",
   "execution_count": 108,
   "id": "c2b76002-5ac9-4af1-b8e1-2a21b55d7ca5",
   "metadata": {},
   "outputs": [
    {
     "name": "stdout",
     "output_type": "stream",
     "text": [
      "La cantidad de elementos en la lista enlazada es 4\n"
     ]
    }
   ],
   "source": [
    "lista_prueba.tamano()"
   ]
  },
  {
   "cell_type": "code",
   "execution_count": 109,
   "id": "b395014f-62df-4542-b0c2-b347336f5dbc",
   "metadata": {},
   "outputs": [
    {
     "name": "stdout",
     "output_type": "stream",
     "text": [
      "el valor de la posicion 0 es 3.1416\n"
     ]
    }
   ],
   "source": [
    "lista_prueba.posicion_valor(0)"
   ]
  },
  {
   "cell_type": "code",
   "execution_count": 112,
   "id": "9f91111c-1fd9-43f4-af18-d65482fee883",
   "metadata": {},
   "outputs": [],
   "source": [
    "lista_prueba.cambiar_valor_posicion(3, 45)"
   ]
  },
  {
   "cell_type": "code",
   "execution_count": 113,
   "id": "2d606fc7-3a69-4f82-a807-ce14883af555",
   "metadata": {},
   "outputs": [
    {
     "name": "stdout",
     "output_type": "stream",
     "text": [
      "45\n",
      "True\n",
      "1\n",
      "45\n"
     ]
    }
   ],
   "source": [
    "lista_prueba.imprimir_lista()"
   ]
  }
 ],
 "metadata": {
  "kernelspec": {
   "display_name": "Python 3 (ipykernel)",
   "language": "python",
   "name": "python3"
  },
  "language_info": {
   "codemirror_mode": {
    "name": "ipython",
    "version": 3
   },
   "file_extension": ".py",
   "mimetype": "text/x-python",
   "name": "python",
   "nbconvert_exporter": "python",
   "pygments_lexer": "ipython3",
   "version": "3.8.10"
  }
 },
 "nbformat": 4,
 "nbformat_minor": 5
}
