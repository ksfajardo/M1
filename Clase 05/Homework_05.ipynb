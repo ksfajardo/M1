{
 "cells": [
  {
   "cell_type": "markdown",
   "metadata": {},
   "source": [
    "# Práctica Clase 5"
   ]
  },
  {
   "cell_type": "markdown",
   "metadata": {},
   "source": [
    "1) Implementar un juego, que consista en apilar números enteros del 1 al 20, de forma aleatoria, para lo cual debe usarse una estructura de Pila. \n",
    "Luego, el usuario debe elegir un número de veces en que se va a quitar elementos de la pila, los cuales, sumados entre sí, no deben superar el valor de 50.\n",
    "El usuario pierde si la suma supera ese valor. Si no lo supera, gana, pero su calificación será 10 menos el número elementos que falten quitar para todavía no superar 50.\n",
    "El programa debe informar si perdió, y si ganó, con qué calificación lo hizo.\n",
    "\n",
    "Consideraciones:<br>\n",
    "a. Se puede usar la función input() para obtener una entrada de teclado.<br>\n",
    "b. Se puede usar la el modulo random para obtener valores aleatorios."
   ]
  },
  {
   "cell_type": "code",
   "execution_count": 15,
   "metadata": {},
   "outputs": [],
   "source": [
    "class JuegoPila:\n",
    "    def __init__(self):\n",
    "        self.listapila=[]\n",
    "\n",
    "    def push(self,item):\n",
    "        self.listapila.append(item)\n",
    "    \n",
    "    def pop(self):\n",
    "        return self.listapila.pop(-1)\n",
    "\n",
    "    def juego(self):\n",
    "        import random\n",
    "        numero=input('Digite el numero de veces que quiere quitar valores')\n",
    "        for i in range (20):\n",
    "            self.push(random.randint(1,20))\n",
    "        print(self.listapila)\n",
    "        suma=0\n",
    "        for n in range(int(numero)):\n",
    "            suma+=int(self.pop())\n",
    "        print(suma)\n",
    "        if suma>50:\n",
    "            print('Ha perdido el juego')\n",
    "        else:\n",
    "            cont=0\n",
    "            while suma<50:\n",
    "                suma+=int(self.pop())\n",
    "                cont+=1\n",
    "            cali=10-cont\n",
    "            print('Ha ganado el juego y su calificacion es ',cali)"
   ]
  },
  {
   "cell_type": "code",
   "execution_count": 17,
   "metadata": {},
   "outputs": [
    {
     "name": "stdout",
     "output_type": "stream",
     "text": [
      "[9, 12, 12, 5, 13, 11, 6, 9, 10, 10, 12, 16, 9, 11, 3, 5, 4, 11, 14, 7]\n",
      "21\n",
      "Ha ganado el juego y su calificacion es  5\n"
     ]
    }
   ],
   "source": [
    "mijuego=JuegoPila()\n",
    "mijuego.juego()\n"
   ]
  },
  {
   "cell_type": "markdown",
   "metadata": {},
   "source": [
    "2) Implementar un juego donde constas de 2 jarras, de capacidad 5 y 3 litros respectivamente, y debes colocar 4 litros en la jarra de 5L.\n",
    "Las opciones posibles son:\n",
    "* Llenar la jarra de 3 litros\n",
    "* Llenar la jarra de 5 litros\n",
    "* Vaciar la jarra de 3 litros\n",
    "* Vaciar la jarra de 5 litros\n",
    "* Verter el contenido de la jarra de 3 litros en la de 5 litros\n",
    "* Verter el contenido de la jarra de 5 litros en la de 3 litros"
   ]
  },
  {
   "cell_type": "code",
   "execution_count": 22,
   "metadata": {},
   "outputs": [],
   "source": [
    "class JuegoJarra:\n",
    "    def __init__(self):\n",
    "        self.jarra3=0\n",
    "        self.jarra5=0\n",
    "\n",
    "    def vaciar(self,jarra):\n",
    "        if jarra==3:\n",
    "            if self.jarra3 != 0:\n",
    "                self.jarra3=0\n",
    "                print('Se ha vaciado la jarra 3')\n",
    "            else:\n",
    "                print ('La jarra 3 ya esta vacia')\n",
    "        \n",
    "        if jarra==5:\n",
    "            if self.jarra5 != 0:\n",
    "                self.jarra5=0\n",
    "                print('Se ha vaciado la jarra 5')\n",
    "            else:\n",
    "                print ('La jarra 5 ya esta vacia')\n",
    "    \n",
    "    def llenar(self,jarra):\n",
    "        if jarra==3:\n",
    "            if self.jarra3 !=3:\n",
    "                self.jarra3=3\n",
    "                print('Se ha llenado la jarra 3')\n",
    "            else:\n",
    "                print('La jarra 3 ya esta llena')\n",
    "        if jarra==5:\n",
    "            if self.jarra5 !=5:\n",
    "                self.jarra5=5\n",
    "                print('Se ha llenado la jarra 5')\n",
    "            else:\n",
    "                print('La jarra 5 ya esta llena')\n",
    "\n",
    "    def verter(self,jarra):\n",
    "        #El input 'jarra' es la jarra desde la que se quiere vertir\n",
    "        if jarra==3:\n",
    "            if self.jarra3==0:\n",
    "                print('No se puede vertir porque la jarra 3 esta vacia')\n",
    "            elif self.jarra5==5:\n",
    "                print('No se puede vertir porque la jarra 5 ya esta llena')\n",
    "            else:\n",
    "                cap=5-self.jarra5\n",
    "                if self.jarra3>=cap:\n",
    "                    self.jarra3=self.jarra3-cap\n",
    "                    self.jarra5=5\n",
    "                    print ('Se ha vertido la jarra 3 en la jarra 5 y esta se ha llenado')\n",
    "                else:\n",
    "                    self.jarra5=self.jarra5+self.jarra3\n",
    "                    self.jarra3=0\n",
    "                    print('Se ha vertido la jarra 3 en la jarra 5 y esta ahora tiene ',self.jarra5,' litros')\n",
    "        if jarra==5:\n",
    "            if self.jarra5==0:\n",
    "                print('No se puede vertir porque la jarra 5 esta vacia')\n",
    "            elif self.jarra3==3:\n",
    "                print('No se puede vertir porque la jarra 3 ya esta llena')\n",
    "            else:\n",
    "                cap=3-self.jarra3\n",
    "                if self.jarra5>=cap:\n",
    "                    self.jarra5=self.jarra5-cap\n",
    "                    self.jarra3=3\n",
    "                    print ('Se ha vertido la jarra 5 en la jarra 3 y esta se ha llenado')\n",
    "                else:\n",
    "                    self.jarra3=self.jarra5+self.jarra3\n",
    "                    self.jarra5=0\n",
    "                    print('Se ha vertido la jarra 5 en la jarra 3 y esta ahora tiene ',self.jarra3,' litros')      "
   ]
  },
  {
   "cell_type": "code",
   "execution_count": 23,
   "metadata": {},
   "outputs": [
    {
     "name": "stdout",
     "output_type": "stream",
     "text": [
      "La jarra 3 ya esta vacia\n",
      "La jarra 5 ya esta vacia\n",
      "Se ha llenado la jarra 3\n",
      "Se ha vertido la jarra 3 en la jarra 5 y esta ahora tiene  3  litros\n",
      "Se ha llenado la jarra 3\n",
      "Se ha vertido la jarra 3 en la jarra 5 y esta se ha llenado\n",
      "Se ha vaciado la jarra 5\n",
      "Se ha vertido la jarra 3 en la jarra 5 y esta ahora tiene  1  litros\n",
      "Se ha llenado la jarra 3\n",
      "Se ha vertido la jarra 3 en la jarra 5 y esta ahora tiene  4  litros\n"
     ]
    }
   ],
   "source": [
    "misjarras=JuegoJarra()\n",
    "misjarras.vaciar(3)\n",
    "misjarras.vaciar(5)\n",
    "misjarras.llenar(3)\n",
    "misjarras.verter(3)\n",
    "misjarras.llenar(3)\n",
    "misjarras.verter(3)\n",
    "misjarras.vaciar(5)\n",
    "misjarras.verter(3)\n",
    "misjarras.llenar(3)\n",
    "misjarras.verter(3)\n"
   ]
  }
 ],
 "metadata": {
  "kernelspec": {
   "display_name": "Python 3",
   "language": "python",
   "name": "python3"
  },
  "language_info": {
   "codemirror_mode": {
    "name": "ipython",
    "version": 3
   },
   "file_extension": ".py",
   "mimetype": "text/x-python",
   "name": "python",
   "nbconvert_exporter": "python",
   "pygments_lexer": "ipython3",
   "version": "3.11.1"
  },
  "vscode": {
   "interpreter": {
    "hash": "eb09ce852db6f361428bb0490ce3c9ce0345b998f8fd8cc3e5547bd106f59481"
   }
  }
 },
 "nbformat": 4,
 "nbformat_minor": 4
}
