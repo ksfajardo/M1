{
 "cells": [
  {
   "cell_type": "markdown",
   "metadata": {},
   "source": [
    "# Práctica Clase 2"
   ]
  },
  {
   "cell_type": "markdown",
   "metadata": {},
   "source": [
    "1) Abrir el archivo \"Emisiones_CO2.csv\" y cargar sus datos en un diccionario."
   ]
  },
  {
   "cell_type": "code",
   "execution_count": 27,
   "metadata": {},
   "outputs": [
    {
     "name": "stdout",
     "output_type": "stream",
     "text": [
      "1691634.8009999995\n"
     ]
    }
   ],
   "source": [
    "import os\n",
    "dicc_emisiones = {  'cod_pais' : [],\n",
    "                    'nom_pais' : [],\n",
    "                    'region' : [],\n",
    "                    'anio' : [],\n",
    "                    'co2' : [],\n",
    "                    'co2_percapita' : []}\n",
    "with open('Emisiones_CO2.csv', 'r') as archivo:\n",
    "    next(archivo,None)\n",
    "    emisiones=0\n",
    "    for line in archivo:\n",
    "        row= line.strip().split('|')\n",
    "        dicc_emisiones['cod_pais'].append(row[0])\n",
    "        dicc_emisiones['nom_pais'].append(row[1])\n",
    "        dicc_emisiones['region'].append(row[2])\n",
    "        dicc_emisiones['anio'].append(row[3])\n",
    "        dicc_emisiones['co2'].append(row[4])\n",
    "        dicc_emisiones['co2_percapita'].append(row[5])\n",
    "        if 'América Latina y Caribe'==row[2] and '2010'==row[3]:\n",
    "            num=row[4].replace('.','')\n",
    "            num=num.replace(',','.')\n",
    "            if num=='':\n",
    "                num=0\n",
    "            else:\n",
    "                num=float(num)\n",
    "            emisiones+=num\n",
    "            \n",
    "            \n",
    "            \n",
    "print(emisiones)\n",
    "            \n",
    "            "
   ]
  },
  {
   "cell_type": "markdown",
   "metadata": {},
   "source": [
    "2) a) ¿Cuántas variables hay? <br>\n",
    "b) ¿Qué tipos de datos usar para cada una? <br>\n",
    "c) ¿Qué tipo de variables son? <br>\n",
    "d) ¿Hay valores faltantes? <br>\n",
    "e) ¿Cuál es el total de emisiones de CO2 para 'América Latina y Caribe' en el año 2010?"
   ]
  }
 ],
 "metadata": {
  "kernelspec": {
   "display_name": "Python 3",
   "language": "python",
   "name": "python3"
  },
  "language_info": {
   "codemirror_mode": {
    "name": "ipython",
    "version": 3
   },
   "file_extension": ".py",
   "mimetype": "text/x-python",
   "name": "python",
   "nbconvert_exporter": "python",
   "pygments_lexer": "ipython3",
   "version": "3.11.1"
  },
  "orig_nbformat": 4,
  "vscode": {
   "interpreter": {
    "hash": "eb09ce852db6f361428bb0490ce3c9ce0345b998f8fd8cc3e5547bd106f59481"
   }
  }
 },
 "nbformat": 4,
 "nbformat_minor": 2
}
