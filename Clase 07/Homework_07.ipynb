{
 "cells": [
  {
   "cell_type": "markdown",
   "metadata": {},
   "source": [
    "# Práctica Clase 7"
   ]
  },
  {
   "cell_type": "markdown",
   "metadata": {},
   "source": [
    "1) Diseñar una clase que permita trabajar con un árbol binario y que contenga los métodos:<br>\n",
    "    * insertaVal: para insertar un dato<br>\n",
    "    * buscaVal: que devuelva True o False si existe o no un dato<br>\n",
    "    * verVal: que imprima por pantalla los valores del árbol<br>\n",
    "\n",
    "Nota: Se puede utilizar la recursividad\n"
   ]
  },
  {
   "cell_type": "code",
   "execution_count": 30,
   "metadata": {},
   "outputs": [],
   "source": [
    "class Nodo():\n",
    "    def __init__(self, dato):\n",
    "        self.valor = dato\n",
    "        self.izq = None\n",
    "        self.der = None"
   ]
  },
  {
   "cell_type": "code",
   "execution_count": 52,
   "metadata": {},
   "outputs": [],
   "source": [
    "class Arbol():\n",
    "    def __init__(self):\n",
    "        self.raiz = None\n",
    "        \n",
    "\n",
    "    def insertaVal(self, dato):\n",
    "        if (self.raiz == None):\n",
    "            self.raiz = Nodo(dato)\n",
    "        else:\n",
    "            self._insertValue(dato,self.raiz)\n",
    "\n",
    "    def _insertValue(self,val,nodo):\n",
    "        if val<nodo.valor:\n",
    "            if (nodo.izq==None):\n",
    "                nodo.izq=Nodo(val)\n",
    "            else:\n",
    "                self._insertValue(val,nodo.izq)\n",
    "        else:\n",
    "            if (nodo.der==None):\n",
    "                nodo.der=Nodo(val)\n",
    "            else:\n",
    "                self._insertValue(val,nodo.der)\n",
    "\n",
    "    def buscaVal(self, val):\n",
    "        if (self.raiz==None):\n",
    "            return False\n",
    "        else:\n",
    "            return self._buscaVal(val,self.raiz)\n",
    "\n",
    "\n",
    "    def _buscaVal(self,val,nodo):\n",
    "        if val<nodo.valor:\n",
    "            if(nodo.izq==None):\n",
    "                return False\n",
    "            else:\n",
    "                return self._buscaVal(val,nodo.izq)\n",
    "        elif val>nodo.valor:\n",
    "            if(nodo.der==None):\n",
    "                return False\n",
    "            else:\n",
    "                return self._buscaVal(val,nodo.der)\n",
    "        else:\n",
    "            return True\n",
    "\n",
    "    def verVal(self):\n",
    "        resultado=[]\n",
    "        self._verVal(self.raiz,resultado)\n",
    "        for elemento in resultado:\n",
    "            print(elemento)\n",
    "\n",
    "    def _verVal(self,nodo, resultado):\n",
    "        if nodo:\n",
    "            self._verVal(nodo.izq,resultado)\n",
    "            resultado.append(nodo.valor)\n",
    "            self._verVal(nodo.der,resultado)\n",
    "                \n",
    "                \n",
    "            "
   ]
  },
  {
   "cell_type": "code",
   "execution_count": 53,
   "metadata": {},
   "outputs": [],
   "source": [
    "a = Arbol()"
   ]
  },
  {
   "cell_type": "code",
   "execution_count": 54,
   "metadata": {},
   "outputs": [],
   "source": [
    "a.insertaVal(2)\n",
    "a.insertaVal(5)\n",
    "a.insertaVal(3)\n",
    "a.insertaVal(10)"
   ]
  },
  {
   "cell_type": "code",
   "execution_count": 55,
   "metadata": {},
   "outputs": [
    {
     "data": {
      "text/plain": [
       "True"
      ]
     },
     "execution_count": 55,
     "metadata": {},
     "output_type": "execute_result"
    }
   ],
   "source": [
    "a.buscaVal(5)"
   ]
  },
  {
   "cell_type": "code",
   "execution_count": 56,
   "metadata": {},
   "outputs": [
    {
     "name": "stdout",
     "output_type": "stream",
     "text": [
      "2\n",
      "3\n",
      "5\n",
      "10\n"
     ]
    }
   ],
   "source": [
    "a.verVal()"
   ]
  }
 ],
 "metadata": {
  "kernelspec": {
   "display_name": "Python 3",
   "language": "python",
   "name": "python3"
  },
  "language_info": {
   "codemirror_mode": {
    "name": "ipython",
    "version": 3
   },
   "file_extension": ".py",
   "mimetype": "text/x-python",
   "name": "python",
   "nbconvert_exporter": "python",
   "pygments_lexer": "ipython3",
   "version": "3.11.1"
  },
  "vscode": {
   "interpreter": {
    "hash": "eb09ce852db6f361428bb0490ce3c9ce0345b998f8fd8cc3e5547bd106f59481"
   }
  }
 },
 "nbformat": 4,
 "nbformat_minor": 4
}
